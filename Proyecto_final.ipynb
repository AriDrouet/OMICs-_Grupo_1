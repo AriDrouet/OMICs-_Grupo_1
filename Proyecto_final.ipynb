{
  "nbformat": 4,
  "nbformat_minor": 0,
  "metadata": {
    "colab": {
      "provenance": [],
      "include_colab_link": true
    },
    "kernelspec": {
      "name": "python3",
      "display_name": "Python 3"
    },
    "language_info": {
      "name": "python"
    }
  },
  "cells": [
    {
      "cell_type": "markdown",
      "metadata": {
        "id": "view-in-github",
        "colab_type": "text"
      },
      "source": [
        "<a href=\"https://colab.research.google.com/github/AriDrouet/OMICs-_Grupo_1/blob/main/Proyecto_final.ipynb\" target=\"_parent\"><img src=\"https://colab.research.google.com/assets/colab-badge.svg\" alt=\"Open In Colab\"/></a>"
      ]
    },
    {
      "cell_type": "markdown",
      "source": [
        "**# Proyecto Final - Grupo 1**\n",
        "\n",
        "### Integrantes:\n",
        "*   Almeida Stefany\n",
        "*   Córdova Daniel\n",
        "*   Drouet Ariana"
      ],
      "metadata": {
        "id": "vArfYqRtPvnw"
      }
    },
    {
      "cell_type": "code",
      "source": [
        "from google.colab import drive\n",
        "drive.mount('/content/drive')"
      ],
      "metadata": {
        "id": "0YyS7oImUE21"
      },
      "execution_count": null,
      "outputs": []
    },
    {
      "cell_type": "code",
      "source": [],
      "metadata": {
        "id": "0YEnClGsQ7CR"
      },
      "execution_count": null,
      "outputs": []
    },
    {
      "cell_type": "code",
      "execution_count": null,
      "metadata": {
        "id": "DncUleWCOlvD",
        "colab": {
          "base_uri": "https://localhost:8080/"
        },
        "outputId": "70c435e5-0fc3-4770-eff7-01410e0a0f10"
      },
      "outputs": [
        {
          "output_type": "stream",
          "name": "stdout",
          "text": [
            "Collecting biopython\n",
            "  Downloading biopython-1.83-cp310-cp310-manylinux_2_17_x86_64.manylinux2014_x86_64.whl (3.1 MB)\n",
            "\u001b[2K     \u001b[90m━━━━━━━━━━━━━━━━━━━━━━━━━━━━━━━━━━━━━━━━\u001b[0m \u001b[32m3.1/3.1 MB\u001b[0m \u001b[31m12.6 MB/s\u001b[0m eta \u001b[36m0:00:00\u001b[0m\n",
            "\u001b[?25hRequirement already satisfied: numpy in /usr/local/lib/python3.10/dist-packages (from biopython) (1.25.2)\n",
            "Installing collected packages: biopython\n",
            "Successfully installed biopython-1.83\n"
          ]
        }
      ],
      "source": [
        "!pip install biopython"
      ]
    },
    {
      "cell_type": "markdown",
      "source": [
        "### Ingreso de secuencias en formato .ab1"
      ],
      "metadata": {
        "id": "_7BdnjgaOHMu"
      }
    },
    {
      "cell_type": "code",
      "source": [
        "# Creación de la carpeta de entrada dentro del directorio \"content\"\n",
        "\n",
        "import os\n",
        "\n",
        "carpeta_entrada = input(\"Ingrese el nombre de la nueva carpeta: \")\n",
        "carpeta_entrada_path = os.path.join(\"/content\", carpeta_entrada)\n",
        "os.makedirs(carpeta_entrada_path)\n",
        "\n",
        "# Impresión de la ruta al nuevo directorio\n",
        "print(f\"Directorio\", carpeta_entrada, \"creado en:\", carpeta_entrada_path)\n",
        "\n",
        "# Subida de archivos.ab1 al directorio de trabajo actual\n",
        "from google.colab import files\n",
        "ITS_files = files.upload()\n",
        "\n",
        "# Mover archivos a la carpeta de entrada solicitada pro el usuario\n",
        "\n",
        "import shutil\n",
        "\n",
        "for filename in ITS_files:\n",
        "    src = os.path.join(\"/content\", filename)\n",
        "    dst = os.path.join(carpeta_entrada_path, filename)\n",
        "    shutil.move(src, dst)\n",
        "\n"
      ],
      "metadata": {
        "id": "7jU3lzD1Ar3F",
        "colab": {
          "base_uri": "https://localhost:8080/",
          "height": 349
        },
        "outputId": "a487239a-7414-4397-ccf6-7e108435659a"
      },
      "execution_count": null,
      "outputs": [
        {
          "name": "stdout",
          "output_type": "stream",
          "text": [
            "Ingrese el nombre de la nueva carpeta: ITS4_ab1\n"
          ]
        },
        {
          "output_type": "error",
          "ename": "FileExistsError",
          "evalue": "[Errno 17] File exists: '/content/ITS4_ab1'",
          "traceback": [
            "\u001b[0;31m---------------------------------------------------------------------------\u001b[0m",
            "\u001b[0;31mFileExistsError\u001b[0m                           Traceback (most recent call last)",
            "\u001b[0;32m<ipython-input-63-5e6522bc9a82>\u001b[0m in \u001b[0;36m<cell line: 7>\u001b[0;34m()\u001b[0m\n\u001b[1;32m      5\u001b[0m \u001b[0mcarpeta_entrada\u001b[0m \u001b[0;34m=\u001b[0m \u001b[0minput\u001b[0m\u001b[0;34m(\u001b[0m\u001b[0;34m\"Ingrese el nombre de la nueva carpeta: \"\u001b[0m\u001b[0;34m)\u001b[0m\u001b[0;34m\u001b[0m\u001b[0;34m\u001b[0m\u001b[0m\n\u001b[1;32m      6\u001b[0m \u001b[0mcarpeta_entrada_path\u001b[0m \u001b[0;34m=\u001b[0m \u001b[0mos\u001b[0m\u001b[0;34m.\u001b[0m\u001b[0mpath\u001b[0m\u001b[0;34m.\u001b[0m\u001b[0mjoin\u001b[0m\u001b[0;34m(\u001b[0m\u001b[0;34m\"/content\"\u001b[0m\u001b[0;34m,\u001b[0m \u001b[0mcarpeta_entrada\u001b[0m\u001b[0;34m)\u001b[0m\u001b[0;34m\u001b[0m\u001b[0;34m\u001b[0m\u001b[0m\n\u001b[0;32m----> 7\u001b[0;31m \u001b[0mos\u001b[0m\u001b[0;34m.\u001b[0m\u001b[0mmakedirs\u001b[0m\u001b[0;34m(\u001b[0m\u001b[0mcarpeta_entrada_path\u001b[0m\u001b[0;34m)\u001b[0m\u001b[0;34m\u001b[0m\u001b[0;34m\u001b[0m\u001b[0m\n\u001b[0m\u001b[1;32m      8\u001b[0m \u001b[0;34m\u001b[0m\u001b[0m\n\u001b[1;32m      9\u001b[0m \u001b[0;31m# Print the path to the new directory.\u001b[0m\u001b[0;34m\u001b[0m\u001b[0;34m\u001b[0m\u001b[0m\n",
            "\u001b[0;32m/usr/lib/python3.10/os.py\u001b[0m in \u001b[0;36mmakedirs\u001b[0;34m(name, mode, exist_ok)\u001b[0m\n\u001b[1;32m    223\u001b[0m             \u001b[0;32mreturn\u001b[0m\u001b[0;34m\u001b[0m\u001b[0;34m\u001b[0m\u001b[0m\n\u001b[1;32m    224\u001b[0m     \u001b[0;32mtry\u001b[0m\u001b[0;34m:\u001b[0m\u001b[0;34m\u001b[0m\u001b[0;34m\u001b[0m\u001b[0m\n\u001b[0;32m--> 225\u001b[0;31m         \u001b[0mmkdir\u001b[0m\u001b[0;34m(\u001b[0m\u001b[0mname\u001b[0m\u001b[0;34m,\u001b[0m \u001b[0mmode\u001b[0m\u001b[0;34m)\u001b[0m\u001b[0;34m\u001b[0m\u001b[0;34m\u001b[0m\u001b[0m\n\u001b[0m\u001b[1;32m    226\u001b[0m     \u001b[0;32mexcept\u001b[0m \u001b[0mOSError\u001b[0m\u001b[0;34m:\u001b[0m\u001b[0;34m\u001b[0m\u001b[0;34m\u001b[0m\u001b[0m\n\u001b[1;32m    227\u001b[0m         \u001b[0;31m# Cannot rely on checking for EEXIST, since the operating system\u001b[0m\u001b[0;34m\u001b[0m\u001b[0;34m\u001b[0m\u001b[0m\n",
            "\u001b[0;31mFileExistsError\u001b[0m: [Errno 17] File exists: '/content/ITS4_ab1'"
          ]
        }
      ]
    },
    {
      "cell_type": "markdown",
      "source": [
        "## Conversión de secuencias de formato .ab1 a .fastq y descarga en archivo comprimido"
      ],
      "metadata": {
        "id": "RN8ePOtlONad"
      }
    },
    {
      "cell_type": "code",
      "source": [
        "# prompt: convertir archivos de una carpeta dada por el usuario de formato .ab1 a .fastq y guardar en una carpeta dada por el usuario con biophyton\n",
        "\n",
        "from Bio import SeqIO\n",
        "import os\n",
        "\n",
        "# Get the path to the input folder from the user.\n",
        "input_folder = input(\"Ingrese el nombre de la carpeta que contiene las secuencias.ab1: \")\n",
        "input_folder_path = os.path.join(\"/content\", input_folder)\n",
        "\n",
        "# Get the path to the output folder from the user.\n",
        "output_folder = input(\"Ingrese el nombre de la carpeta donde se guardarán los archivos .fastq: \")\n",
        "output_folder_path = os.path.join(\"/content\", output_folder)\n",
        "\n",
        "# Create the output folder if it doesn't exist.\n",
        "os.makedirs(output_folder_path, exist_ok=True)\n",
        "\n",
        "\n",
        "# Iterate through the files in the input folder.\n",
        "for filename in os.listdir(input_folder_path):\n",
        "    # Check if the file is an .ab1 file.\n",
        "    if filename.endswith(\".ab1\"):\n",
        "        # Get the path to the input file.\n",
        "        input_file_path = os.path.join(input_folder_path, filename)\n",
        "\n",
        "        # Get the path to the output file.\n",
        "        output_file_path = os.path.join(output_folder_path, filename.split(\".\")[0] + \".fastq\")\n",
        "\n",
        "        # Convert the file using Biopython.\n",
        "        SeqIO.convert(input_file_path, \"abi\", output_file_path, \"fastq\")\n",
        "\n",
        "# Print a message to the user.\n",
        "print(f\"Archivos convertidos y guardados en el directorio: {output_folder_path}\")\n",
        "\n",
        "#Descargar archivo comprimido\n",
        "!zip -r {output_folder}.zip {output_folder_path}\n",
        "files.download(f\"{output_folder}.zip\")\n"
      ],
      "metadata": {
        "id": "oZkA4RA4WGqO",
        "colab": {
          "base_uri": "https://localhost:8080/",
          "height": 1000
        },
        "outputId": "e642ddee-5254-48f6-fa01-9fbc210d80e7"
      },
      "execution_count": null,
      "outputs": [
        {
          "output_type": "stream",
          "name": "stdout",
          "text": [
            "Ingrese el nombre de la carpeta que contiene las secuencias.ab1: ITS4_ab1\n",
            "Ingrese el nombre de la carpeta donde se guardarán los archivos .fastq: ITS4_fastq\n",
            "Archivos convertidos y guardados en el directorio: /content/ITS4_fastq\n",
            "  adding: content/ITS4_fastq/ (stored 0%)\n",
            "  adding: content/ITS4_fastq/ITS4-Y.fastq (deflated 43%)\n",
            "  adding: content/ITS4_fastq/ITS4-5.fastq (deflated 45%)\n",
            "  adding: content/ITS4_fastq/ITS4-R5.fastq (deflated 41%)\n",
            "  adding: content/ITS4_fastq/ITS4-R12.fastq (deflated 48%)\n",
            "  adding: content/ITS4_fastq/ITS4-T.fastq (deflated 44%)\n",
            "  adding: content/ITS4_fastq/ITS4-24.fastq (deflated 45%)\n",
            "  adding: content/ITS4_fastq/ITS4-R37.fastq (deflated 43%)\n",
            "  adding: content/ITS4_fastq/ITS4-QQ.fastq (deflated 47%)\n",
            "  adding: content/ITS4_fastq/ITS4-i.fastq (deflated 42%)\n",
            "  adding: content/ITS4_fastq/ITS4-R35.fastq (deflated 47%)\n",
            "  adding: content/ITS4_fastq/ITS4-R31.fastq (deflated 50%)\n",
            "  adding: content/ITS4_fastq/ITS4-9.fastq (deflated 47%)\n",
            "  adding: content/ITS4_fastq/ITS4-R15.fastq (deflated 45%)\n",
            "  adding: content/ITS4_fastq/ITS4-36.fastq (deflated 50%)\n",
            "  adding: content/ITS4_fastq/ITS4-C.fastq (deflated 49%)\n",
            "  adding: content/ITS4_fastq/ITS4-A.fastq (deflated 44%)\n",
            "  adding: content/ITS4_fastq/ITS4-10.fastq (deflated 45%)\n",
            "  adding: content/ITS4_fastq/ITS4-R17.fastq (deflated 42%)\n",
            "  adding: content/ITS4_fastq/ITS4-13.fastq (deflated 42%)\n",
            "  adding: content/ITS4_fastq/ITS4-1.fastq (deflated 43%)\n",
            "  adding: content/ITS4_fastq/ITS4-29.fastq (deflated 49%)\n",
            "  adding: content/ITS4_fastq/ITS4-J.fastq (deflated 49%)\n",
            "  adding: content/ITS4_fastq/ITS4-R33.fastq (deflated 46%)\n",
            "  adding: content/ITS4_fastq/ITS4-39.fastq (deflated 48%)\n",
            "  adding: content/ITS4_fastq/ITS4-E.fastq (deflated 48%)\n",
            "  adding: content/ITS4_fastq/ITS4-R16.fastq (deflated 46%)\n",
            "  adding: content/ITS4_fastq/ITS4-R6.fastq (deflated 48%)\n",
            "  adding: content/ITS4_fastq/ITS4-NN.fastq (deflated 47%)\n",
            "  adding: content/ITS4_fastq/ITS4-R18.fastq (deflated 45%)\n",
            "  adding: content/ITS4_fastq/ITS4-R25.fastq (deflated 46%)\n",
            "  adding: content/ITS4_fastq/ITS4-34.fastq (deflated 47%)\n",
            "  adding: content/ITS4_fastq/ITS4-R2.fastq (deflated 48%)\n",
            "  adding: content/ITS4_fastq/ITS4-M.fastq (deflated 44%)\n",
            "  adding: content/ITS4_fastq/ITS4-N.fastq (deflated 50%)\n",
            "  adding: content/ITS4_fastq/ITS4-12.fastq (deflated 46%)\n",
            "  adding: content/ITS4_fastq/ITS4-CC.fastq (deflated 50%)\n",
            "  adding: content/ITS4_fastq/ITS4-K.fastq (deflated 43%)\n",
            "  adding: content/ITS4_fastq/ITS4-28.fastq (deflated 46%)\n",
            "  adding: content/ITS4_fastq/ITS4-R14.fastq (deflated 44%)\n",
            "  adding: content/ITS4_fastq/ITS4-38.fastq (deflated 48%)\n",
            "  adding: content/ITS4_fastq/ITS4-D.fastq (deflated 47%)\n",
            "  adding: content/ITS4_fastq/ITS4-R3.fastq (deflated 49%)\n",
            "  adding: content/ITS4_fastq/ITS4-R10.fastq (deflated 41%)\n",
            "  adding: content/ITS4_fastq/ITS4-30.fastq (deflated 42%)\n",
            "  adding: content/ITS4_fastq/ITS4-R23.fastq (deflated 47%)\n",
            "  adding: content/ITS4_fastq/ITS4-W.fastq (deflated 45%)\n",
            "  adding: content/ITS4_fastq/ITS4-X.fastq (deflated 42%)\n",
            "  adding: content/ITS4_fastq/ITS4-42.fastq (deflated 43%)\n",
            "  adding: content/ITS4_fastq/ITS4-G.fastq (deflated 44%)\n",
            "  adding: content/ITS4_fastq/ITS4-O.fastq (deflated 46%)\n",
            "  adding: content/ITS4_fastq/ITS4-R28.fastq (deflated 46%)\n",
            "  adding: content/ITS4_fastq/ITS4-R8.fastq (deflated 46%)\n",
            "  adding: content/ITS4_fastq/ITS4-R9.fastq (deflated 43%)\n",
            "  adding: content/ITS4_fastq/ITS4-14.fastq (deflated 45%)\n",
            "  adding: content/ITS4_fastq/ITS4-R27.fastq (deflated 43%)\n",
            "  adding: content/ITS4_fastq/ITS4-2.fastq (deflated 44%)\n",
            "  adding: content/ITS4_fastq/ITS4-R4.fastq (deflated 47%)\n",
            "  adding: content/ITS4_fastq/ITS4-F.fastq (deflated 48%)\n",
            "  adding: content/ITS4_fastq/ITS4-R24.fastq (deflated 45%)\n",
            "  adding: content/ITS4_fastq/ITS4-R19.fastq (deflated 46%)\n",
            "  adding: content/ITS4_fastq/ITS4-R.fastq (deflated 41%)\n",
            "  adding: content/ITS4_fastq/ITS4-R1.fastq (deflated 47%)\n",
            "  adding: content/ITS4_fastq/ITS4-R36.fastq (deflated 47%)\n",
            "  adding: content/ITS4_fastq/ITS4-U.fastq (deflated 45%)\n",
            "  adding: content/ITS4_fastq/ITS4-R11.fastq (deflated 45%)\n",
            "  adding: content/ITS4_fastq/ITS4-R22_.fastq (deflated 46%)\n",
            "  adding: content/ITS4_fastq/ITS4-Z.fastq (deflated 45%)\n",
            "  adding: content/ITS4_fastq/ITS4-32.fastq (deflated 42%)\n",
            "  adding: content/ITS4_fastq/ITS4-BB.fastq (deflated 42%)\n",
            "  adding: content/ITS4_fastq/ITS4-4.fastq (deflated 45%)\n",
            "  adding: content/ITS4_fastq/ITS4-35.fastq (deflated 48%)\n",
            "  adding: content/ITS4_fastq/ITS4-R34.fastq (deflated 43%)\n",
            "  adding: content/ITS4_fastq/ITS4-R26.fastq (deflated 47%)\n",
            "  adding: content/ITS4_fastq/ITS4-37.fastq (deflated 43%)\n",
            "  adding: content/ITS4_fastq/ITS4-R20.fastq (deflated 47%)\n",
            "  adding: content/ITS4_fastq/ITS4-R13.fastq (deflated 49%)\n",
            "  adding: content/ITS4_fastq/ITS4-44.fastq (deflated 47%)\n",
            "  adding: content/ITS4_fastq/ITS4-7.fastq (deflated 44%)\n",
            "  adding: content/ITS4_fastq/ITS4-R29.fastq (deflated 47%)\n",
            "  adding: content/ITS4_fastq/ITS4-8.fastq (deflated 47%)\n",
            "  adding: content/ITS4_fastq/ITS4-R7.fastq (deflated 47%)\n",
            "  adding: content/ITS4_fastq/ITS4-11.fastq (deflated 43%)\n",
            "  adding: content/ITS4_fastq/ITS4-L.fastq (deflated 42%)\n",
            "  adding: content/ITS4_fastq/ITS4-R21.fastq (deflated 48%)\n"
          ]
        },
        {
          "output_type": "display_data",
          "data": {
            "text/plain": [
              "<IPython.core.display.Javascript object>"
            ],
            "application/javascript": [
              "\n",
              "    async function download(id, filename, size) {\n",
              "      if (!google.colab.kernel.accessAllowed) {\n",
              "        return;\n",
              "      }\n",
              "      const div = document.createElement('div');\n",
              "      const label = document.createElement('label');\n",
              "      label.textContent = `Downloading \"${filename}\": `;\n",
              "      div.appendChild(label);\n",
              "      const progress = document.createElement('progress');\n",
              "      progress.max = size;\n",
              "      div.appendChild(progress);\n",
              "      document.body.appendChild(div);\n",
              "\n",
              "      const buffers = [];\n",
              "      let downloaded = 0;\n",
              "\n",
              "      const channel = await google.colab.kernel.comms.open(id);\n",
              "      // Send a message to notify the kernel that we're ready.\n",
              "      channel.send({})\n",
              "\n",
              "      for await (const message of channel.messages) {\n",
              "        // Send a message to notify the kernel that we're ready.\n",
              "        channel.send({})\n",
              "        if (message.buffers) {\n",
              "          for (const buffer of message.buffers) {\n",
              "            buffers.push(buffer);\n",
              "            downloaded += buffer.byteLength;\n",
              "            progress.value = downloaded;\n",
              "          }\n",
              "        }\n",
              "      }\n",
              "      const blob = new Blob(buffers, {type: 'application/binary'});\n",
              "      const a = document.createElement('a');\n",
              "      a.href = window.URL.createObjectURL(blob);\n",
              "      a.download = filename;\n",
              "      div.appendChild(a);\n",
              "      a.click();\n",
              "      div.remove();\n",
              "    }\n",
              "  "
            ]
          },
          "metadata": {}
        },
        {
          "output_type": "display_data",
          "data": {
            "text/plain": [
              "<IPython.core.display.Javascript object>"
            ],
            "application/javascript": [
              "download(\"download_26cbbf1b-6a01-481a-887b-452b61187e50\", \"ITS4_fastq.zip\", 68853)"
            ]
          },
          "metadata": {}
        }
      ]
    }
  ]
}